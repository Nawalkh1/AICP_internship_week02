{
  "metadata": {
    "kernelspec": {
      "name": "python",
      "display_name": "Python (Pyodide)",
      "language": "python"
    },
    "language_info": {
      "codemirror_mode": {
        "name": "python",
        "version": 3
      },
      "file_extension": ".py",
      "mimetype": "text/x-python",
      "name": "python",
      "nbconvert_exporter": "python",
      "pygments_lexer": "ipython3",
      "version": "3.8"
    }
  },
  "nbformat_minor": 4,
  "nbformat": 4,
  "cells": [
    {
      "cell_type": "code",
      "source": "#task 07\n#Q.7: Import excel sheet ‘SampleWork.xlsx’ in the given folder. Keep in mind the following instructions:\nimport pandas as pd",
      "metadata": {
        "trusted": true
      },
      "outputs": [],
      "execution_count": 1
    },
    {
      "cell_type": "code",
      "source": "# Define the file path\nfile_path = 'SampleWork.csv'",
      "metadata": {
        "trusted": true
      },
      "outputs": [],
      "execution_count": 2
    },
    {
      "cell_type": "code",
      "source": "df = pd.read_csv(file_path, skiprows=[1])",
      "metadata": {
        "trusted": true
      },
      "outputs": [],
      "execution_count": 3
    },
    {
      "cell_type": "code",
      "source": "# Selecting the first and last column\nfirst_column = df.columns[0]\nlast_column = df.columns[-1]\ndf = df[[first_column, last_column]]",
      "metadata": {
        "trusted": true
      },
      "outputs": [],
      "execution_count": 4
    },
    {
      "cell_type": "code",
      "source": "# Exporting the modified DataFrame to a new CSV file\noutput_file_path = 'Modified_SampleWork.csv'\ndf.to_csv(output_file_path, index=False)",
      "metadata": {
        "trusted": true
      },
      "outputs": [],
      "execution_count": 5
    },
    {
      "cell_type": "code",
      "source": "# Read the modified CSV file\ndf_modified = pd.read_csv(output_file_path)\n\n# Print the contents of the modified DataFrame\nprint(df_modified)",
      "metadata": {
        "trusted": true
      },
      "outputs": [
        {
          "name": "stdout",
          "text": "     Name  Percentage\n0   Bilal          90\n1  Sufyan          85\n2   Saiqa          80\n3   Aimen          75\n",
          "output_type": "stream"
        }
      ],
      "execution_count": 6
    },
    {
      "cell_type": "code",
      "source": "#task 08 \n#Q.8: Create the following dataframe as AICP_DF then implement different operations as described below:\nimport pandas as pd ",
      "metadata": {
        "trusted": true
      },
      "outputs": [],
      "execution_count": 7
    },
    {
      "cell_type": "code",
      "source": "# Create DataFrame AICP_DF\ndata = {\n    'Name': ['Ali', 'Hifza', 'Bilal', 'Ahmed', 'Sara'],\n    'Qualification': ['B.Tech', 'M.Tech', 'Ph.D', 'B.Sc', 'M.Sc']\n}\nAICP_DF = pd.DataFrame(data)",
      "metadata": {
        "trusted": true
      },
      "outputs": [],
      "execution_count": 8
    },
    {
      "cell_type": "code",
      "source": "# 1. Select 'Name' and 'Qualification' columns and save to df1\ndf1 = AICP_DF[['Name', 'Qualification']]",
      "metadata": {
        "trusted": true
      },
      "outputs": [],
      "execution_count": 9
    },
    {
      "cell_type": "code",
      "source": "# 2. Add a new column 'Height' to AICP_DF\nAICP_DF['Height'] = [5.1, 6.2, 5.1, 5.2, 5.1]",
      "metadata": {
        "trusted": true
      },
      "outputs": [],
      "execution_count": 10
    },
    {
      "cell_type": "code",
      "source": "# 3. Set 'Name' column as the index\nAICP_DF.set_index('Name', inplace=True)",
      "metadata": {
        "trusted": true
      },
      "outputs": [],
      "execution_count": 11
    },
    {
      "cell_type": "code",
      "source": "\n# 4. Retrieve row with index 'Hifza'\nrow_hifza = AICP_DF.loc['Hifza']",
      "metadata": {
        "trusted": true
      },
      "outputs": [],
      "execution_count": 12
    },
    {
      "cell_type": "code",
      "source": "# 5. Retrieve row with index 3\nrow_index_3 = AICP_DF.iloc[3]",
      "metadata": {
        "trusted": true
      },
      "outputs": [],
      "execution_count": 13
    },
    {
      "cell_type": "code",
      "source": "# 6. Drop row with index 'Bilal'\nAICP_DF.drop(index='Bilal', inplace=True)\n",
      "metadata": {
        "trusted": true
      },
      "outputs": [],
      "execution_count": 14
    },
    {
      "cell_type": "code",
      "source": "# Print the DataFrames and results\nprint (\"AICP_DF:\")\nprint (AICP_DF)\nprint (\"\\ndf1:\")\nprint (df1)\nprint (\"\\nRow with index 'Hifza':\")\nprint (row_hifza)\nprint (\"\\nRow with index 3:\")\nprint (row_index_3)",
      "metadata": {
        "trusted": true
      },
      "outputs": [
        {
          "name": "stdout",
          "text": "AICP_DF:\n      Qualification  Height\nName                       \nAli          B.Tech     5.1\nHifza        M.Tech     6.2\nAhmed          B.Sc     5.2\nSara           M.Sc     5.1\n\ndf1:\n    Name Qualification\n0    Ali        B.Tech\n1  Hifza        M.Tech\n2  Bilal          Ph.D\n3  Ahmed          B.Sc\n4   Sara          M.Sc\n\nRow with index 'Hifza':\nQualification    M.Tech\nHeight              6.2\nName: Hifza, dtype: object\n\nRow with index 3:\nQualification    B.Sc\nHeight            5.2\nName: Ahmed, dtype: object\n",
          "output_type": "stream"
        }
      ],
      "execution_count": 15
    },
    {
      "cell_type": "code",
      "source": "",
      "metadata": {
        "trusted": true
      },
      "outputs": [],
      "execution_count": null
    }
  ]
}